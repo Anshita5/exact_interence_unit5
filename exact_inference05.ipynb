{
  "nbformat": 4,
  "nbformat_minor": 0,
  "metadata": {
    "colab": {
      "provenance": [],
      "authorship_tag": "ABX9TyNBz0mCILTVfnGcerUYSRdD",
      "include_colab_link": true
    },
    "kernelspec": {
      "name": "python3",
      "display_name": "Python 3"
    },
    "language_info": {
      "name": "python"
    }
  },
  "cells": [
    {
      "cell_type": "markdown",
      "metadata": {
        "id": "view-in-github",
        "colab_type": "text"
      },
      "source": [
        "<a href=\"https://colab.research.google.com/github/Anshita5/exact_interence_unit5/blob/main/exact_inference05.ipynb\" target=\"_parent\"><img src=\"https://colab.research.google.com/assets/colab-badge.svg\" alt=\"Open In Colab\"/></a>"
      ]
    },
    {
      "cell_type": "code",
      "execution_count": 3,
      "metadata": {
        "colab": {
          "base_uri": "https://localhost:8080/"
        },
        "id": "hXGhVFEa_6K_",
        "outputId": "4c41f42d-ce5a-4fb6-bdef-a205a9b8ac89"
      },
      "outputs": [
        {
          "output_type": "stream",
          "name": "stdout",
          "text": [
            "Collecting pgmpy\n",
            "  Downloading pgmpy-0.1.26-py3-none-any.whl.metadata (9.1 kB)\n",
            "Requirement already satisfied: networkx in /usr/local/lib/python3.10/dist-packages (from pgmpy) (3.4.1)\n",
            "Requirement already satisfied: numpy in /usr/local/lib/python3.10/dist-packages (from pgmpy) (1.26.4)\n",
            "Requirement already satisfied: scipy in /usr/local/lib/python3.10/dist-packages (from pgmpy) (1.13.1)\n",
            "Requirement already satisfied: scikit-learn in /usr/local/lib/python3.10/dist-packages (from pgmpy) (1.5.2)\n",
            "Requirement already satisfied: pandas in /usr/local/lib/python3.10/dist-packages (from pgmpy) (2.2.2)\n",
            "Requirement already satisfied: pyparsing in /usr/local/lib/python3.10/dist-packages (from pgmpy) (3.2.0)\n",
            "Requirement already satisfied: torch in /usr/local/lib/python3.10/dist-packages (from pgmpy) (2.4.1+cu121)\n",
            "Requirement already satisfied: statsmodels in /usr/local/lib/python3.10/dist-packages (from pgmpy) (0.14.4)\n",
            "Requirement already satisfied: tqdm in /usr/local/lib/python3.10/dist-packages (from pgmpy) (4.66.5)\n",
            "Requirement already satisfied: joblib in /usr/local/lib/python3.10/dist-packages (from pgmpy) (1.4.2)\n",
            "Requirement already satisfied: opt-einsum in /usr/local/lib/python3.10/dist-packages (from pgmpy) (3.4.0)\n",
            "Requirement already satisfied: xgboost in /usr/local/lib/python3.10/dist-packages (from pgmpy) (2.1.1)\n",
            "Requirement already satisfied: google-generativeai in /usr/local/lib/python3.10/dist-packages (from pgmpy) (0.7.2)\n",
            "Requirement already satisfied: google-ai-generativelanguage==0.6.6 in /usr/local/lib/python3.10/dist-packages (from google-generativeai->pgmpy) (0.6.6)\n",
            "Requirement already satisfied: google-api-core in /usr/local/lib/python3.10/dist-packages (from google-generativeai->pgmpy) (2.19.2)\n",
            "Requirement already satisfied: google-api-python-client in /usr/local/lib/python3.10/dist-packages (from google-generativeai->pgmpy) (2.137.0)\n",
            "Requirement already satisfied: google-auth>=2.15.0 in /usr/local/lib/python3.10/dist-packages (from google-generativeai->pgmpy) (2.27.0)\n",
            "Requirement already satisfied: protobuf in /usr/local/lib/python3.10/dist-packages (from google-generativeai->pgmpy) (3.20.3)\n",
            "Requirement already satisfied: pydantic in /usr/local/lib/python3.10/dist-packages (from google-generativeai->pgmpy) (2.9.2)\n",
            "Requirement already satisfied: typing-extensions in /usr/local/lib/python3.10/dist-packages (from google-generativeai->pgmpy) (4.12.2)\n",
            "Requirement already satisfied: proto-plus<2.0.0dev,>=1.22.3 in /usr/local/lib/python3.10/dist-packages (from google-ai-generativelanguage==0.6.6->google-generativeai->pgmpy) (1.24.0)\n",
            "Requirement already satisfied: python-dateutil>=2.8.2 in /usr/local/lib/python3.10/dist-packages (from pandas->pgmpy) (2.8.2)\n",
            "Requirement already satisfied: pytz>=2020.1 in /usr/local/lib/python3.10/dist-packages (from pandas->pgmpy) (2024.2)\n",
            "Requirement already satisfied: tzdata>=2022.7 in /usr/local/lib/python3.10/dist-packages (from pandas->pgmpy) (2024.2)\n",
            "Requirement already satisfied: threadpoolctl>=3.1.0 in /usr/local/lib/python3.10/dist-packages (from scikit-learn->pgmpy) (3.5.0)\n",
            "Requirement already satisfied: patsy>=0.5.6 in /usr/local/lib/python3.10/dist-packages (from statsmodels->pgmpy) (0.5.6)\n",
            "Requirement already satisfied: packaging>=21.3 in /usr/local/lib/python3.10/dist-packages (from statsmodels->pgmpy) (24.1)\n",
            "Requirement already satisfied: filelock in /usr/local/lib/python3.10/dist-packages (from torch->pgmpy) (3.16.1)\n",
            "Requirement already satisfied: sympy in /usr/local/lib/python3.10/dist-packages (from torch->pgmpy) (1.13.3)\n",
            "Requirement already satisfied: jinja2 in /usr/local/lib/python3.10/dist-packages (from torch->pgmpy) (3.1.4)\n",
            "Requirement already satisfied: fsspec in /usr/local/lib/python3.10/dist-packages (from torch->pgmpy) (2024.6.1)\n",
            "Requirement already satisfied: nvidia-nccl-cu12 in /usr/local/lib/python3.10/dist-packages (from xgboost->pgmpy) (2.23.4)\n",
            "Requirement already satisfied: googleapis-common-protos<2.0.dev0,>=1.56.2 in /usr/local/lib/python3.10/dist-packages (from google-api-core->google-generativeai->pgmpy) (1.65.0)\n",
            "Requirement already satisfied: requests<3.0.0.dev0,>=2.18.0 in /usr/local/lib/python3.10/dist-packages (from google-api-core->google-generativeai->pgmpy) (2.32.3)\n",
            "Requirement already satisfied: cachetools<6.0,>=2.0.0 in /usr/local/lib/python3.10/dist-packages (from google-auth>=2.15.0->google-generativeai->pgmpy) (5.5.0)\n",
            "Requirement already satisfied: pyasn1-modules>=0.2.1 in /usr/local/lib/python3.10/dist-packages (from google-auth>=2.15.0->google-generativeai->pgmpy) (0.4.1)\n",
            "Requirement already satisfied: rsa<5,>=3.1.4 in /usr/local/lib/python3.10/dist-packages (from google-auth>=2.15.0->google-generativeai->pgmpy) (4.9)\n",
            "Requirement already satisfied: six in /usr/local/lib/python3.10/dist-packages (from patsy>=0.5.6->statsmodels->pgmpy) (1.16.0)\n",
            "Requirement already satisfied: httplib2<1.dev0,>=0.19.0 in /usr/local/lib/python3.10/dist-packages (from google-api-python-client->google-generativeai->pgmpy) (0.22.0)\n",
            "Requirement already satisfied: google-auth-httplib2<1.0.0,>=0.2.0 in /usr/local/lib/python3.10/dist-packages (from google-api-python-client->google-generativeai->pgmpy) (0.2.0)\n",
            "Requirement already satisfied: uritemplate<5,>=3.0.1 in /usr/local/lib/python3.10/dist-packages (from google-api-python-client->google-generativeai->pgmpy) (4.1.1)\n",
            "Requirement already satisfied: MarkupSafe>=2.0 in /usr/local/lib/python3.10/dist-packages (from jinja2->torch->pgmpy) (3.0.1)\n",
            "Requirement already satisfied: annotated-types>=0.6.0 in /usr/local/lib/python3.10/dist-packages (from pydantic->google-generativeai->pgmpy) (0.7.0)\n",
            "Requirement already satisfied: pydantic-core==2.23.4 in /usr/local/lib/python3.10/dist-packages (from pydantic->google-generativeai->pgmpy) (2.23.4)\n",
            "Requirement already satisfied: mpmath<1.4,>=1.1.0 in /usr/local/lib/python3.10/dist-packages (from sympy->torch->pgmpy) (1.3.0)\n",
            "Requirement already satisfied: grpcio<2.0dev,>=1.33.2 in /usr/local/lib/python3.10/dist-packages (from google-api-core[grpc]!=2.0.*,!=2.1.*,!=2.10.*,!=2.2.*,!=2.3.*,!=2.4.*,!=2.5.*,!=2.6.*,!=2.7.*,!=2.8.*,!=2.9.*,<3.0.0dev,>=1.34.1->google-ai-generativelanguage==0.6.6->google-generativeai->pgmpy) (1.64.1)\n",
            "Requirement already satisfied: grpcio-status<2.0.dev0,>=1.33.2 in /usr/local/lib/python3.10/dist-packages (from google-api-core[grpc]!=2.0.*,!=2.1.*,!=2.10.*,!=2.2.*,!=2.3.*,!=2.4.*,!=2.5.*,!=2.6.*,!=2.7.*,!=2.8.*,!=2.9.*,<3.0.0dev,>=1.34.1->google-ai-generativelanguage==0.6.6->google-generativeai->pgmpy) (1.48.2)\n",
            "Requirement already satisfied: pyasn1<0.7.0,>=0.4.6 in /usr/local/lib/python3.10/dist-packages (from pyasn1-modules>=0.2.1->google-auth>=2.15.0->google-generativeai->pgmpy) (0.6.1)\n",
            "Requirement already satisfied: charset-normalizer<4,>=2 in /usr/local/lib/python3.10/dist-packages (from requests<3.0.0.dev0,>=2.18.0->google-api-core->google-generativeai->pgmpy) (3.4.0)\n",
            "Requirement already satisfied: idna<4,>=2.5 in /usr/local/lib/python3.10/dist-packages (from requests<3.0.0.dev0,>=2.18.0->google-api-core->google-generativeai->pgmpy) (3.10)\n",
            "Requirement already satisfied: urllib3<3,>=1.21.1 in /usr/local/lib/python3.10/dist-packages (from requests<3.0.0.dev0,>=2.18.0->google-api-core->google-generativeai->pgmpy) (2.2.3)\n",
            "Requirement already satisfied: certifi>=2017.4.17 in /usr/local/lib/python3.10/dist-packages (from requests<3.0.0.dev0,>=2.18.0->google-api-core->google-generativeai->pgmpy) (2024.8.30)\n",
            "Downloading pgmpy-0.1.26-py3-none-any.whl (2.0 MB)\n",
            "\u001b[2K   \u001b[90m━━━━━━━━━━━━━━━━━━━━━━━━━━━━━━━━━━━━━━━━\u001b[0m \u001b[32m2.0/2.0 MB\u001b[0m \u001b[31m28.7 MB/s\u001b[0m eta \u001b[36m0:00:00\u001b[0m\n",
            "\u001b[?25hInstalling collected packages: pgmpy\n",
            "Successfully installed pgmpy-0.1.26\n"
          ]
        }
      ],
      "source": [
        "# Install necessary library\n",
        "!pip install pgmpy\n",
        "\n",
        "# Importing necessary libraries with different aliases\n",
        "import pandas as pd\n",
        "import numpy as np\n",
        "from sklearn.preprocessing import LabelEncoder as LE\n",
        "from pgmpy.models import BayesianNetwork as BN\n",
        "from pgmpy.factors.discrete import TabularCPD as CPD\n",
        "from pgmpy.inference import VariableElimination as VE"
      ]
    },
    {
      "cell_type": "code",
      "source": [
        "# Load dataset\n",
        "data_frame = pd.read_csv(\"/content/dataset.csv\")"
      ],
      "metadata": {
        "id": "Gg49IycJBuv_"
      },
      "execution_count": 4,
      "outputs": []
    },
    {
      "cell_type": "code",
      "source": [
        "# Define a function for encoding labels\n",
        "def encode_labels(data_frame):\n",
        "    encoder = LE()  # Use the aliased LabelEncoder\n",
        "    for column in data_frame.columns:\n",
        "        data_frame[column] = encoder.fit_transform(data_frame[column])\n",
        "    return data_frame"
      ],
      "metadata": {
        "id": "kiGb_llwHmwk"
      },
      "execution_count": 5,
      "outputs": []
    },
    {
      "cell_type": "code",
      "source": [
        "# Preprocess the data\n",
        "data_encoded = encode_labels(data_frame)\n"
      ],
      "metadata": {
        "id": "cN3zTCSVHsdh"
      },
      "execution_count": 6,
      "outputs": []
    },
    {
      "cell_type": "code",
      "source": [
        "# Create the Bayesian Network model\n",
        "def build_bayesian_network():\n",
        "    # Define the model structure\n",
        "    bayesian_model = BN([('Symptom1', 'Disease'),\n",
        "                         ('Symptom2', 'Disease'),\n",
        "                         ('Symptom3', 'Disease')])\n",
        "\n",
        "    # Define the CPDs (Conditional Probability Distributions)\n",
        "    cpd_symptom1 = CPD(variable='Symptom1', variable_card=2, values=[[0.8], [0.2]])\n",
        "    cpd_symptom2 = CPD(variable='Symptom2', variable_card=2, values=[[0.7], [0.3]])\n",
        "    cpd_symptom3 = CPD(variable='Symptom3', variable_card=2, values=[[0.6], [0.4]])\n",
        "    cpd_disease = CPD(variable='Disease', variable_card=2, values=[[0.9, 0.4, 0.2],\n",
        "                                                                    [0.1, 0.6, 0.8]],\n",
        "                      evidence=['Symptom1', 'Symptom2', 'Symptom3'], evidence_card=[2, 2, 2])\n",
        "\n",
        "    # Add the CPDs to the model\n",
        "    bayesian_model.add_cpds(cpd_symptom1, cpd_symptom2, cpd_symptom3, cpd_disease)\n",
        "\n",
        "    # Check if the model is valid\n",
        "    assert bayesian_model.check_model(), \"The Bayesian network model is invalid!\"\n",
        "\n",
        "    return bayesian_model"
      ],
      "metadata": {
        "id": "Zo8vha_vJcEI"
      },
      "execution_count": 7,
      "outputs": []
    },
    {
      "cell_type": "code",
      "source": [
        "# Create the Bayesian Network model\n",
        "def build_bayesian_network():\n",
        "    # Define the model structure\n",
        "    bayesian_model = BN([('Symptom1', 'Disease'),\n",
        "                         ('Symptom2', 'Disease'),\n",
        "                         ('Symptom3', 'Disease')])\n",
        "\n",
        "    # Define the CPDs (Conditional Probability Distributions)\n",
        "    cpd_symptom1 = CPD(variable='Symptom1', variable_card=2, values=[[0.8], [0.2]])\n",
        "    cpd_symptom2 = CPD(variable='Symptom2', variable_card=2, values=[[0.7], [0.3]])\n",
        "    cpd_symptom3 = CPD(variable='Symptom3', variable_card=2, values=[[0.6], [0.4]])\n",
        "\n",
        "    # Updated CPD for Disease (now has 8 columns for all combinations of evidence)\n",
        "    cpd_disease = CPD(variable='Disease', variable_card=2, values=[[0.9, 0.7, 0.6, 0.4, 0.3, 0.2, 0.1, 0.05],\n",
        "                                                                    [0.1, 0.3, 0.4, 0.6, 0.7, 0.8, 0.9, 0.95]],\n",
        "                      evidence=['Symptom1', 'Symptom2', 'Symptom3'], evidence_card=[2, 2, 2])\n",
        "\n",
        "    # Add the CPDs to the model\n",
        "    bayesian_model.add_cpds(cpd_symptom1, cpd_symptom2, cpd_symptom3, cpd_disease)\n",
        "\n",
        "    # Check if the model is valid\n",
        "    assert bayesian_model.check_model(), \"The Bayesian network model is invalid!\"\n",
        "\n",
        "    return bayesian_model\n",
        "\n",
        "# Build the network\n",
        "network_model = build_bayesian_network()\n",
        "\n"
      ],
      "metadata": {
        "id": "zaoXAFbqJfeS"
      },
      "execution_count": 9,
      "outputs": []
    },
    {
      "cell_type": "code",
      "source": [
        "# Perform inference using Variable Elimination\n",
        "def infer_disease(bayesian_model, symptoms_evidence):\n",
        "    infer = VE(bayesian_model)  # Using the aliased VariableElimination\n",
        "    # Query the probability of having a disease given the symptoms\n",
        "    query_result = infer.query(variables=['Disease'], evidence=symptoms_evidence)\n",
        "    return query_result\n",
        "\n",
        "# Example of inference with hypothetical symptoms\n",
        "evidence_example = {'Symptom1': 1, 'Symptom2': 0, 'Symptom3': 1}\n",
        "disease_prediction = infer_disease(network_model, evidence_example)\n",
        "print(\"Predicted Disease:\", disease_prediction)\n"
      ],
      "metadata": {
        "colab": {
          "base_uri": "https://localhost:8080/"
        },
        "id": "ftRUSUPfbAcG",
        "outputId": "f3d29db9-ca2f-4a88-ac26-5ac38fa05471"
      },
      "execution_count": 11,
      "outputs": [
        {
          "output_type": "stream",
          "name": "stdout",
          "text": [
            "Predicted Disease: +------------+----------------+\n",
            "| Disease    |   phi(Disease) |\n",
            "+============+================+\n",
            "| Disease(0) |         0.2000 |\n",
            "+------------+----------------+\n",
            "| Disease(1) |         0.8000 |\n",
            "+------------+----------------+\n"
          ]
        }
      ]
    }
  ]
}